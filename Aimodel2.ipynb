{
 "cells": [
  {
   "cell_type": "code",
   "execution_count": 1,
   "id": "9f5e7074-45ae-4076-80f3-20e4c5d457a5",
   "metadata": {
    "tags": []
   },
   "outputs": [
    {
     "name": "stdout",
     "output_type": "stream",
     "text": [
      "[]\n"
     ]
    }
   ],
   "source": [
    "from transformers import T5ForConditionalGeneration, T5Tokenizer, Trainer, TrainingArguments\n",
    "import torch\n",
    "from datasets import DatasetDict, Dataset\n",
    "#new tokenizer \n",
    "from transformers import AutoTokenizer \n",
    "model = T5ForConditionalGeneration.from_pretrained(\"t5-small\")\n",
    "tokenizer = AutoTokenizer.from_pretrained(\"t5-small\",additional_special_tokens=None,extra_ids=0,model_max_length=1e30,)\n",
    "print(tokenizer.additional_special_tokens)\n",
    "['<extra_id_0>',\n",
    " '<extra_id_1>',\n",
    " '<extra_id_2>',\n",
    " '<extra_id_3>',]\n",
    "#old tokenizer used \n",
    "# model = T5ForConditionalGeneration.from_pretrained(\"t5-small\")\n",
    "# tokenizer = T5Tokenizer.from_pretrained(\"t5-small\")\n",
    "# Define your mental health dataset\n",
    "MHdataset = [\n",
    "    {\"source\": \"What are some common signs of anxiety?\", \"target\": \"Common signs of anxiety include restlessness, excessive worry, and increased heart rate.\"},\n",
    "    {\"source\": \"What are some common signs of anxiety?\", \"target\": \"Common signs of anxiety include restlessness, excessive worry, and increased heart rate.\"},\n",
    "    {\"source\": \"How can I manage stress?\", \"target\": \"Managing stress involves practicing relaxation techniques, exercising, and seeking support from friends or professionals.\"},\n",
    "    {\"source\": \"What are the symptoms of depression?\", \"target\": \"Symptoms of depression may include persistent sadness, loss of interest in activities, and changes in appetite.\"},\n",
    "    {\"source\": \"How can I improve my mental health?\", \"target\": \"You can improve your mental health by maintaining a balanced lifestyle, seeking help when needed, and practicing self-care.\"},\n",
    "    {\"source\": \"What is the importance of self-care?\", \"target\": \"Self-care is essential for maintaining mental and emotional well-being. It helps reduce stress and improve overall quality of life.\"},\n",
    "    {\"source\": \"Are there any natural remedies for anxiety?\", \"target\": \"Yes, some natural remedies for anxiety include deep breathing exercises, mindfulness meditation, and herbal teas like chamomile or lavender.\"},\n",
    "    {\"source\": \"What is the difference between stress and anxiety?\", \"target\": \"Stress is a response to a specific event or situation, while anxiety is a prolonged feeling of unease and worry. Both can have physical and emotional symptoms.\"},\n",
    "    {\"source\": \"How can I deal with social anxiety?\", \"target\": \"Dealing with social anxiety involves gradual exposure to social situations, cognitive-behavioral therapy, and learning relaxation techniques.\"},\n",
    "    {\"source\": \"What role does exercise play in mental health?\", \"target\": \"Regular exercise can boost mood, reduce anxiety and depression, and improve overall mental health.\"},\n",
    "    {\"source\": \"Is it common to experience mood swings?\", \"target\": \"Yes, occasional mood swings are common, but persistent and extreme mood swings may be a sign of a mood disorder that requires professional help.\"},\n",
    "    {\"source\": \"How can I help a friend who is struggling with mental health issues?\", \"target\": \"Offer support, listen without judgment, encourage them to seek professional help, and check in regularly.\"},\n",
    "    {\"source\": \"What is the impact of a healthy diet on mental health?\", \"target\": \"A healthy diet can improve mental health by providing essential nutrients for brain function and stabilizing mood.\"},\n",
    "    {\"source\": \"Can music or art therapy help with mental health?\", \"target\": \"Yes, music and art therapy can be beneficial in expressing emotions and reducing stress and anxiety.\"},\n",
    "    {\"source\": \"What is the relationship between sleep and mental health?\", \"target\": \"Sleep plays a crucial role in mental health. Poor sleep can worsen existing mental health issues, while good sleep promotes emotional well-being.\"},\n",
    "    {\"source\": \"Are there effective techniques for coping with grief?\", \"target\": \"Coping with grief involves allowing oneself to grieve, seeking support, and finding healthy ways to remember and honor the loved one.\"},\n",
    "    {\"source\": \"How can I build resilience against life's challenges?\", \"target\": \"Building resilience involves developing problem-solving skills, seeking social support, and maintaining a positive outlook.\"},\n",
    "    {\"source\": \"What are the benefits of therapy or counseling?\", \"target\": \"Therapy can provide a safe space to discuss and address mental health concerns, improve coping skills, and promote self-awareness.\"},\n",
    "    {\"source\": \"Is it normal to have occasional moments of self-doubt?\", \"target\": \"Yes, self-doubt is a common experience. It's important to challenge negative self-talk and seek support when needed.\"},\n",
    "    {\"source\": \"What are the effects of prolonged stress on the body?\", \"target\": \"Prolonged stress can lead to physical and mental health issues, such as high blood pressure, insomnia, and increased risk of anxiety and depression.\"},\n",
    "    {\"source\": \"How can I practice mindfulness in daily life?\", \"target\": \"Practicing mindfulness involves being present in the moment, focusing on your breath, and observing your thoughts without judgment.\"},\n",
    "]\n",
    "\n",
    "\n"
   ]
  },
  {
   "cell_type": "code",
   "execution_count": 2,
   "id": "2671a9d9-414d-42eb-8f1b-9002fb88dc51",
   "metadata": {
    "tags": []
   },
   "outputs": [
    {
     "name": "stdout",
     "output_type": "stream",
     "text": [
      "21\n"
     ]
    }
   ],
   "source": [
    "# Convert your dataset to a pandas DataFrame\n",
    "import pandas as pd\n",
    "df = pd.DataFrame(MHdataset)\n",
    "\n",
    "# Create a Dataset object from your pandas DataFrame\n",
    "train_dataset = Dataset.from_pandas(df)\n",
    "\n",
    "# Convert your Dataset object to a DatasetDict object\n",
    "dataset = DatasetDict({\"train\": train_dataset})\n",
    "\n",
    "# Select the train split\n",
    "train_split = dataset[\"train\"]\n",
    "\n",
    "# Access the first item in the train split\n",
    "first_item = train_split[0]\n",
    "\n",
    "train_split\n",
    "print(len(train_dataset))\n",
    "\n"
   ]
  },
  {
   "cell_type": "code",
   "execution_count": 3,
   "id": "47c46ef3-b7ea-48ee-b8ed-f32132c1e668",
   "metadata": {
    "tags": []
   },
   "outputs": [],
   "source": [
    "# def my_data_collator(batch):\n",
    "#     source_ids = []\n",
    "#     for source in batch[\"source\"]:\n",
    "#         source_ids.append(tokenizer(source)[\"input_ids\"])\n",
    "\n",
    "#     batch[\"source\"] = source_ids\n",
    "\n",
    "#     # Move this code inside the function\n",
    "#     inputs = tokenizer(batch[\"source\"], return_tensors=\"pt\", padding=True, max_length=200)\n",
    "#     return {\"input_ids\": inputs[\"input_ids\"]}\n",
    "#      # inputs = tokenizer(batch[\"source\"], return_tensors=\"pt\", padding=True, max_length=200)\n",
    "#     # return {\"input_ids\": inputs[\"input_ids\"]}\n",
    "\n",
    "\n"
   ]
  },
  {
   "cell_type": "code",
   "execution_count": 4,
   "id": "5dac43fb-cb03-49b3-a29a-a684b7f5a4f9",
   "metadata": {
    "tags": []
   },
   "outputs": [
    {
     "name": "stdout",
     "output_type": "stream",
     "text": [
      "20\n"
     ]
    },
    {
     "data": {
      "text/html": [
       "\n",
       "    <div>\n",
       "      \n",
       "      <progress value='800' max='800' style='width:300px; height:20px; vertical-align: middle;'></progress>\n",
       "      [800/800 07:33, Epoch 400/400]\n",
       "    </div>\n",
       "    <table border=\"1\" class=\"dataframe\">\n",
       "  <thead>\n",
       " <tr style=\"text-align: left;\">\n",
       "      <th>Step</th>\n",
       "      <th>Training Loss</th>\n",
       "    </tr>\n",
       "  </thead>\n",
       "  <tbody>\n",
       "    <tr>\n",
       "      <td>500</td>\n",
       "      <td>1.633900</td>\n",
       "    </tr>\n",
       "  </tbody>\n",
       "</table><p>"
      ],
      "text/plain": [
       "<IPython.core.display.HTML object>"
      ]
     },
     "metadata": {},
     "output_type": "display_data"
    },
    {
     "data": {
      "text/plain": [
       "TrainOutput(global_step=800, training_loss=1.1841931533813477, metrics={'train_runtime': 453.953, 'train_samples_per_second': 18.504, 'train_steps_per_second': 1.762, 'total_flos': 36994835546112.0, 'train_loss': 1.1841931533813477, 'epoch': 400.0})"
      ]
     },
     "execution_count": 4,
     "metadata": {},
     "output_type": "execute_result"
    }
   ],
   "source": [
    "#finetuning the model\n",
    "def my_data_collator(batch):\n",
    "    source_texts = [example[\"source\"] for example in batch]\n",
    "    target_texts = [example[\"target\"] for example in batch]\n",
    "\n",
    "    inputs = tokenizer(source_texts, return_tensors=\"pt\", padding=True, truncation=True, max_length=200)\n",
    "    labels = tokenizer(target_texts, return_tensors=\"pt\", padding=True, truncation=True, max_length=200)\n",
    "\n",
    "    return {\n",
    "        \"input_ids\": inputs[\"input_ids\"],\n",
    "        \"attention_mask\": inputs[\"attention_mask\"],\n",
    "        \"labels\": labels[\"input_ids\"],\n",
    "    }\n",
    "\n",
    "\n",
    "training_args = TrainingArguments(\n",
    "    output_dir=\"./chatbot_model\",\n",
    "    overwrite_output_dir=True,\n",
    "    num_train_epochs=400,\n",
    "    per_device_train_batch_size= 20,\n",
    "    save_steps=10,\n",
    "    save_total_limit=2,\n",
    "    remove_unused_columns=False,\n",
    "    \n",
    ")\n",
    "\n",
    "print(getattr(training_args, \"per_device_train_batch_size\"))\n",
    "\n",
    "\n",
    "trainer = Trainer(\n",
    "    model=model,\n",
    "    args=training_args,\n",
    "    data_collator=my_data_collator,\n",
    "    train_dataset=train_dataset,\n",
    "    tokenizer=tokenizer,\n",
    ")\n",
    "\n",
    "\n",
    "# if len(train_dataset) > 0:\n",
    "#     trainer.train()\n",
    "# else:\n",
    "#     print(\"The train_dataset dataset is empty. Please add some data to the dataset before training the model.\")\n",
    "\n",
    "\n",
    "trainer.train()\n"
   ]
  },
  {
   "cell_type": "code",
   "execution_count": null,
   "id": "ac958d1b-2edd-477b-b18d-416a2988c79c",
   "metadata": {},
   "outputs": [
    {
     "name": "stdout",
     "output_type": "stream",
     "text": [
      "Chatbot: Hey, how can I assist you today?\n"
     ]
    },
    {
     "name": "stdin",
     "output_type": "stream",
     "text": [
      "You:  What are the symptoms of depression?\n"
     ]
    },
    {
     "name": "stdout",
     "output_type": "stream",
     "text": [
      "Chatbot: Symptoms of depression may include persistent persistent sadness, loss of appetite, and changes in appetite.\n"
     ]
    },
    {
     "name": "stdin",
     "output_type": "stream",
     "text": [
      "You:  What are the symptoms of depression?\n"
     ]
    },
    {
     "name": "stdout",
     "output_type": "stream",
     "text": [
      "Chatbot: Symptoms of depression may include persistent sadness, loss of interest in activities, and changes in appetite.\n"
     ]
    },
    {
     "name": "stdin",
     "output_type": "stream",
     "text": [
      "You:  ow can I improve my mental health?\n"
     ]
    },
    {
     "name": "stdout",
     "output_type": "stream",
     "text": [
      "Chatbot: Can I improve my mental health?\n"
     ]
    },
    {
     "name": "stdin",
     "output_type": "stream",
     "text": [
      "You:  How can I improve my mental health?\n"
     ]
    },
    {
     "name": "stdout",
     "output_type": "stream",
     "text": [
      "Chatbot: Optimize your mental health by maintaining a balanced lifestyle, seeking help from doctors and counselors, and seeking support from friends and family members.\n"
     ]
    },
    {
     "name": "stdin",
     "output_type": "stream",
     "text": [
      "You:  What is your name?\n"
     ]
    },
    {
     "name": "stdout",
     "output_type": "stream",
     "text": [
      "Chatbot: Your name is your name, yourspan, and your country name.\n"
     ]
    },
    {
     "name": "stdin",
     "output_type": "stream",
     "text": [
      "You:  What is anxiety?\n"
     ]
    },
    {
     "name": "stdout",
     "output_type": "stream",
     "text": [
      "Chatbot: The anxiety reduces risk of anxiety, improves confidence in detail, and encourages others to seek help.\n"
     ]
    },
    {
     "name": "stdin",
     "output_type": "stream",
     "text": [
      "You:  Is it common to experience mood swings?\n"
     ]
    },
    {
     "name": "stdout",
     "output_type": "stream",
     "text": [
      "Chatbot: Yes, occasional mood swings are common, but occasional sightings may be a sign of mood disorder.\n"
     ]
    },
    {
     "name": "stdin",
     "output_type": "stream",
     "text": [
      "You:  What is the impact of a healthy diet on mental health?\n"
     ]
    },
    {
     "name": "stdout",
     "output_type": "stream",
     "text": [
      "Chatbot: A healthy diet can improve mental health by providing essential nutrients for brain relaxes and promotes emotional well-being.\n"
     ]
    },
    {
     "name": "stdin",
     "output_type": "stream",
     "text": [
      "You:  What is the difference between stress and anxiety\n"
     ]
    },
    {
     "name": "stdout",
     "output_type": "stream",
     "text": [
      "Chatbot: Stress is a response to the specific needs of people, while anxiety is intense. It can also cause anxiety to increase in frequency and intensity. Both can have physical and emotional symptoms.\n"
     ]
    },
    {
     "name": "stdin",
     "output_type": "stream",
     "text": [
      "You:  Is it common to experience mood swings?\n"
     ]
    },
    {
     "name": "stdout",
     "output_type": "stream",
     "text": [
      "Chatbot: Est-ce common to experience mood swings?\n"
     ]
    },
    {
     "name": "stdin",
     "output_type": "stream",
     "text": [
      "You:  Is it common to experience mood swings?\n"
     ]
    },
    {
     "name": "stdout",
     "output_type": "stream",
     "text": [
      "Chatbot: Yes, experiencing mood swings is a common experience.\n"
     ]
    }
   ],
   "source": [
    "# Greet the user\n",
    "print(\"Chatbot: Hey, how can I assist you today?\")\n",
    "while True:\n",
    "    user_input = input(\"You: \")\n",
    "\n",
    "    # Define the input text\n",
    "    input_text =  user_input\n",
    "\n",
    "    # Encode the input text\n",
    "    input_ids = tokenizer.encode(input_text, return_tensors=\"pt\", max_length=512, truncation=True)\n",
    "\n",
    "    # Generate a response using the fine-tuned model\n",
    "    response_ids = model.generate(input_ids, max_length=50, num_beams=4, no_repeat_ngram_size=2, top_k=50, top_p=0.9, do_sample=True)\n",
    "\n",
    "    chatbot_response = tokenizer.decode(response_ids[0], skip_special_tokens=True)\n",
    "    print(\"Chatbot:\", chatbot_response)\n",
    "\n",
    "    \n",
    "    \n",
    "#Old\n",
    "# while True:\n",
    "#     user_input = input(\"You: \")\n",
    "#     input_text = \"Q: \" + user_input\n",
    "#     input_ids = tokenizer.encode(input_text, return_tensors=\"pt\", max_length=512, truncation=True)\n",
    "#     response_ids = model.generate(input_ids, max_length=50, num_beams=4, no_repeat_ngram_size=2, top_k=50, top_p=0.95, eos_token_id=tokenizer.eos_token_id)\n",
    "\n",
    "#     chatbot_response = tokenizer.decode(response_ids[0], skip_special_tokens=True)\n",
    "#     print(\"Chatbot:\", chatbot_response)\n"
   ]
  },
  {
   "cell_type": "code",
   "execution_count": null,
   "id": "a76dc4f4-b66f-4a03-8aa1-6a48641ad5cb",
   "metadata": {},
   "outputs": [],
   "source": [
    "# print(\"Chatbot: Hey, how can I assist you today?\")\n",
    "\n",
    "\n",
    "# MHdataset = [\n",
    "#     \"Q: What are some common signs of anxiety?\\nA: Common signs of anxiety include restlessness, excessive worry, and increased heart rate.\",\n",
    "#     \"Q: How can I manage stress?\\nA: Managing stress involves practicing relaxation techniques, exercising, and seeking support from friends or professionals.\",\n",
    "#     \"Q: What are the symptoms of depression?\\nA: Symptoms of depression may include persistent sadness, loss of interest in activities, and changes in appetite.\",\n",
    "#     \"Q: How can I improve my mental health?\\nA: You can improve your mental health by maintaining a balanced lifestyle, seeking help when needed, and practicing self-care.\",\n",
    "# ]\n",
    "\n",
    "# trainer = Trainer(\n",
    "#     model=model,\n",
    "#     args=training_args,\n",
    "#     train_dataset=mh.dataset,\n",
    "# )\n",
    "# trainer.train()\n",
    "\n",
    "\n",
    "# while True:\n",
    "#     user_input = input(\"You: \")\n",
    "#     input_text = \"chatbot: \" + user_input\n",
    "#     input_ids = tokenizer.encode(input_text, return_tensors=\"pt\", max_length=512, truncation=True)\n",
    "#     response_ids = model.generate(input_ids, max_length=50, num_beams=4, no_repeat_ngram_size=2, top_k=50, top_p=0.95, eos_token_id=tokenizer.eos_token_id)\n",
    "\n",
    "#     chatbot_response = tokenizer.decode(response_ids[0], skip_special_tokens=True)\n",
    "#     print(\"Chatbot:\", chatbot_response)\n",
    "    \n",
    "# response_ids = model.generate(\n",
    "#     input_ids, \n",
    "#     max_length=50, \n",
    "#     num_beams=4, \n",
    "#     do_sample=True,  # Set do_sample to True for sampling-based generation\n",
    "#     top_p=0.95,       # Adjust top_p as needed\n",
    "#     no_repeat_ngram_size=2, \n",
    "#     top_k=50, \n",
    "#     eos_token_id=tokenizer.eos_token_id\n",
    "# )\n"
   ]
  },
  {
   "cell_type": "code",
   "execution_count": null,
   "id": "c4ffdf8e-e017-4e61-816e-58a446771d66",
   "metadata": {},
   "outputs": [],
   "source": []
  }
 ],
 "metadata": {
  "kernelspec": {
   "display_name": "Python 3 (ipykernel)",
   "language": "python",
   "name": "python3"
  },
  "language_info": {
   "codemirror_mode": {
    "name": "ipython",
    "version": 3
   },
   "file_extension": ".py",
   "mimetype": "text/x-python",
   "name": "python",
   "nbconvert_exporter": "python",
   "pygments_lexer": "ipython3",
   "version": "3.11.4"
  }
 },
 "nbformat": 4,
 "nbformat_minor": 5
}
